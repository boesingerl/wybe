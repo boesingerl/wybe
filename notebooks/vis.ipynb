{
 "cells": [
  {
   "cell_type": "code",
   "execution_count": 1,
   "metadata": {},
   "outputs": [],
   "source": [
    "import ipywidgets as widgets\n",
    "import pandas as pd\n",
    "from ipywidgets import interactive, widgets, interact\n",
    "from IPython.core.display import HTML, display\n",
    "import plotly.graph_objects as go\n",
    "import json\n",
    "import pickle\n",
    "from hdfs3 import HDFileSystem\n",
    "from wybe import *"
   ]
  },
  {
   "cell_type": "code",
   "execution_count": 2,
   "metadata": {},
   "outputs": [],
   "source": [
    "# Load Important Data for visualization\n",
    "\n",
    "# Graph for computing routing\n",
    "G,stop_name_to_id = Utils.read_graph_from_hdfs(\"2\")\n",
    "\n",
    "# Df with mapping from Trip id to route desc and route short name\n",
    "trip_route_name = Utils.load_hdfs_to_pandas('trips_route_name.parquet')\n",
    "\n",
    "# Translation table from trip id to line id to show to user\n",
    "dict_trip_route_name = trip_route_name.set_index('trip_id')['route_short_name'].to_dict()\n",
    "\n",
    "# Loads all stop names within 15km\n",
    "hdfs = HDFileSystem(host='hdfs://iccluster040.iccluster.epfl.ch', port=8020, user='ebouille')\n",
    "with hdfs.open('/user/boesinge/finalproject/stops_names.pkl', 'rb') as f:\n",
    "    b = f.read()\n",
    "    stop_names = list(pickle.loads(b))\n",
    "    \n",
    "# Creating the routing class for later\n",
    "routing = Routing(G, stop_name_to_id)"
   ]
  },
  {
   "cell_type": "code",
   "execution_count": 3,
   "metadata": {},
   "outputs": [],
   "source": [
    "### The next cell runs the voilà notebook so you don't have to !"
   ]
  },
  {
   "cell_type": "code",
   "execution_count": 3,
   "metadata": {},
   "outputs": [
    {
     "data": {
      "application/javascript": [
       "\n",
       "let s = window.location.href\n",
       "if(s.includes('/lab')){\n",
       "window.open(s.split('/lab')[0] + '/voila/render/notebooks/vis.ipynb')\n",
       "}\n"
      ],
      "text/plain": [
       "<IPython.core.display.Javascript object>"
      ]
     },
     "metadata": {},
     "output_type": "display_data"
    }
   ],
   "source": [
    "%%javascript\n",
    "\n",
    "let s = window.location.href\n",
    "if(s.includes('/lab')){\n",
    "window.open(s.split('/lab')[0] + '/voila/render/notebooks/vis.ipynb')\n",
    "}\n"
   ]
  },
  {
   "cell_type": "code",
   "execution_count": 7,
   "metadata": {},
   "outputs": [],
   "source": [
    "# Method to squeeze the dataframes to have the edges of the same trip represented in a single entry\n",
    "def squeeze_df(df):\n",
    "        # Get Intermediate stop for each trip in route dataframe\n",
    "        intermediate_stops = df[['trip_id','dep_stop_name']].groupby('trip_id')\\\n",
    "                .agg({'dep_stop_name':lambda x : list(x)[1:]})\\\n",
    "                .reset_index().rename(columns={'dep_stop_name':'intermediate_stops'})\n",
    "        \n",
    "        # Select the values to be kept for each trip\n",
    "        df = df.groupby('trip_id')\\\n",
    "                .agg({'ttype':'first','dep_stop_id':'first','arr_stop_id':'last','dep_time':'first','arr_time':'last',\n",
    "                     'dep_stop_name':'first','arr_stop_name':'last','dep_lat':'first','dep_lon':'first','arr_lat':'last',\n",
    "                      'arr_lon':'last','travel_time':'sum'})\\\n",
    "                .reset_index()\n",
    "        # Merge stops with information about trip and return resulting dataframe\n",
    "        return df.merge(intermediate_stops,on='trip_id').sort_values(by='dep_time')"
   ]
  },
  {
   "cell_type": "code",
   "execution_count": 8,
   "metadata": {},
   "outputs": [],
   "source": [
    "def pretty_df(df):\n",
    "    # Rename the different columns so that the information to be displayed is a more readable format\n",
    "    df = (df.reset_index()[['ttype','trip_id','dep_time','arr_time','dep_stop_name','arr_stop_name','travel_time','intermediate_stops']]\n",
    "          .rename(columns= {\"trip_id\": \"Line\",\"ttype\":\"Transport Type\",\"dep_stop_name\":\"Departure Stop\",\"arr_stop_name\":\"Arrival Stop\",\n",
    "                            \"dep_time\":\"Departure Time\",\"arr_time\":\"Arrival Time\",'travel_time':\"Travel Time\",'intermediate_stops':\"Intermediate Stops\"})\n",
    "         )\n",
    "    \n",
    "    # Reformat Intermediate stops to handle the case of direct print and improve reading format\n",
    "    df['Intermediate Stops'] = df['Intermediate Stops'].apply(lambda x : \"Direct Trip\" if (len(x)==0) else '|'.join(x) if len(x) <= 2 else '|'.join(x[:2]) + '..')\n",
    "    \n",
    "    # Transform unix time into timestamp for readability\n",
    "    df[\"Departure Time\"] = df[\"Departure Time\"].apply(lambda x : Utils.print_timestamp(x))\n",
    "    df[\"Arrival Time\"] = df[\"Arrival Time\"].apply(lambda x : Utils.print_timestamp(x))\n",
    "    df[\"Travel Time\"] = df[\"Travel Time\"].apply(lambda x : Utils.print_timestamp(x))\n",
    "    \n",
    "    # Transform trip id in line name eg. Tram 9, Bus 134\n",
    "    df[\"Line\"] = df['Transport Type'] + ' ' + df['Line'].apply(lambda x : dict_trip_route_name.get(x, ''))\n",
    "    return df"
   ]
  },
  {
   "cell_type": "code",
   "execution_count": 9,
   "metadata": {},
   "outputs": [],
   "source": [
    "# Method to create a styler dataframe to have a nicer visualization of the dataframe\n",
    "def pretty_style(df):\n",
    "    # Colors for each type of transport\n",
    "    coolors = {\n",
    "    'Bus': '#FEC89A',\n",
    "    'Tram':'#ECE4DB',\n",
    "    'Foot': '#F8EDEB'\n",
    "    }\n",
    "    # Return the styler with background color corresponding to transport type color\n",
    "    return df.style.hide_columns(['Transport Type']).apply(lambda x: [f\"background-color: {coolors.get(x['Transport Type'],'#FEC5BB')}\" for y in x],axis=1)"
   ]
  },
  {
   "cell_type": "code",
   "execution_count": 10,
   "metadata": {},
   "outputs": [],
   "source": [
    "# Method to call the planner with given arguments \n",
    "def compute_journey(start, stop, arrival, confidence):\n",
    "    if not start or not stop:\n",
    "        return\n",
    "    route = routing.robust(start, stop, f'{arrival}:00',threshold = confidence, number_of_routes=3)\n",
    "    return route\n",
    "\n",
    "# Method to plot a journey in a map \n",
    "def plot_journey(route):\n",
    "    \n",
    "    # Dict of markers for each transport type\n",
    "    markers = {\n",
    "    'Bus': 'bus',\n",
    "    'Foot':'toilet',\n",
    "    'Init': 'circle'\n",
    "    }\n",
    "    \n",
    "    \n",
    "    # Transform route to dataframe\n",
    "    dataframe = route.to_Pandas()\n",
    "    \n",
    "    # Get squeezed version of dataframe\n",
    "    squeezed_df = squeeze_df(dataframe)\n",
    "    \n",
    "    # Dataframe with only the rows which are line changes\n",
    "    first_take = dataframe.drop_duplicates(subset=['trip_id'])\n",
    "    \n",
    "    # Plot of the polyline between all stops of the path\n",
    "    fig = go.Figure(go.Scattermapbox(\n",
    "    mode = \"markers+lines\",\n",
    "    lat = list(dataframe.dep_lat.values)+[dataframe.iloc[-1].arr_lat],\n",
    "    lon = list(dataframe.dep_lon.values)+[dataframe.iloc[-1].arr_lon],\n",
    "    hovertext=list(dataframe.dep_stop_name)+[dataframe.iloc[-1].arr_stop_name],\n",
    "    marker = {'size': 10, 'symbol':list(dataframe.apply(lambda x : markers.get(x.ttype,'rail') if (x.name in first_take.index.values) else 'square' ,axis=1))+['embassy']}))\n",
    "    \n",
    "    # Params for the map style\n",
    "    fig.update_layout(\n",
    "    margin ={'l':0,'t':0,'b':0,'r':0},\n",
    "    mapbox=dict(\n",
    "        accesstoken=\"pk.eyJ1IjoibGdpb3JkYW4iLCJhIjoiY2tvMXlqaXczMHVjYzJvazRyNXoyZmpxeCJ9.rYkK9im_fzp_XShXcMmbdA\",\n",
    "        bearing=0,\n",
    "        center=go.layout.mapbox.Center(\n",
    "            lat=47.377220,\n",
    "            lon=8.539902\n",
    "        ),\n",
    "        pitch=0,\n",
    "        zoom=12\n",
    "    ))\n",
    "    fig.show()\n",
    "    \n",
    "    display(HTML(pretty_style(pretty_df(squeezed_df)).hide_index().render().replace('<table','<table style=\"width:100%\"')))\n",
    "\n",
    "\n",
    "# selector for start station\n",
    "start_selector = widgets.Combobox(\n",
    "    placeholder='Choose a starting point',\n",
    "    options= stop_names,\n",
    "    description='Departure:',\n",
    "    ensure_option=True,\n",
    "    disabled=False\n",
    ")\n",
    "\n",
    "# selector for end station\n",
    "stop_selector = widgets.Combobox(\n",
    "    placeholder='Choose an ending point',\n",
    "    options= stop_names,\n",
    "    description='Arrival:',\n",
    "    ensure_option=True,\n",
    "    disabled=False\n",
    ")\n",
    "\n",
    "# Time selector\n",
    "times = [x.time().strftime('%H:%M') for x in pd.date_range(\"08:00\", \"22:00\", freq=\"1min\")]\n",
    "\n",
    "# Arrival time selector\n",
    "arrival = widgets.SelectionSlider(\n",
    "    value='12:00',\n",
    "    options=times,\n",
    "    description='Arrival Time',\n",
    "    disabled=False,\n",
    "    continuous_update=False,\n",
    "    orientation='horizontal',\n",
    "    readout=True\n",
    ")\n",
    "\n",
    "# Confidence value selector\n",
    "conf = widgets.FloatSlider(\n",
    "    value=0.7,\n",
    "    min=0.01,\n",
    "    max=0.99,\n",
    "    step=0.01,\n",
    "    description='Confidence:',\n",
    "    disabled=False,\n",
    "    continuous_update=False,\n",
    "    orientation='horizontal',\n",
    "    readout=True,\n",
    "    readout_format='.2f',\n",
    ")\n",
    "\n",
    "# Go Button to start computation\n",
    "button = widgets.Button(description=\"Go\")\n",
    "\n",
    "# Add gif to display it while algorithm is running\n",
    "file = open(\"train.gif\", \"rb\")\n",
    "image = file.read()\n",
    "loading = widgets.Image(\n",
    "    value=image,\n",
    "    format='png',\n",
    "    width=500,\n",
    ")\n",
    "\n",
    "# Layout params\n",
    "box_layout = widgets.Layout(display='flex',\n",
    "                flex_flow='column',\n",
    "                align_items='center',\n",
    "                width='100%')\n",
    "\n",
    "img_box = widgets.HBox(children=[loading],layout=box_layout)\n"
   ]
  },
  {
   "cell_type": "code",
   "execution_count": 11,
   "metadata": {},
   "outputs": [
    {
     "data": {
      "text/html": [
       "\n",
       "<div class=\"header\">\n",
       "  <img src=\"Connected.png\" style=\"height:600px;margin-top: -120px;margin-bottom : -80px \">\n",
       "</div>\n",
       "\n",
       "<style>\n",
       ".header {\n",
       "  padding: 0px;\n",
       "  text-align: center;\n",
       "  background: #D8E2DC;\n",
       "  color: white;\n",
       "  font-size: 20px;\n",
       "  overflow : hidden;\n",
       "}\n",
       "\n",
       "</style>\n"
      ],
      "text/plain": [
       "<IPython.core.display.HTML object>"
      ]
     },
     "execution_count": 11,
     "metadata": {},
     "output_type": "execute_result"
    }
   ],
   "source": [
    "# Code for Header of our voila page\n",
    "HTML(\"\"\"\n",
    "<div class=\"header\">\n",
    "  <img src=\"Connected.png\" style=\"height:600px;margin-top: -120px;margin-bottom : -80px \">\n",
    "</div>\n",
    "\n",
    "<style>\n",
    ".header {\n",
    "  padding: 0px;\n",
    "  text-align: center;\n",
    "  background: #D8E2DC;\n",
    "  color: white;\n",
    "  font-size: 20px;\n",
    "  overflow : hidden;\n",
    "}\n",
    "\n",
    "</style>\n",
    "\"\"\")"
   ]
  },
  {
   "cell_type": "code",
   "execution_count": 12,
   "metadata": {},
   "outputs": [],
   "source": [
    "# Params of the different paths to display to the users\n",
    "colors = ['#4d4995', '#ea175a', '#fdc30a']\n",
    "nums = ['First', 'Second', 'Third']\n",
    "trip_header = \"\"\"\n",
    "<div class=\"header\" style=\"padding:\">\n",
    "  <h1 style=\"color:{color}\"> {num} Proposed Trip, with probability of success : {proba:2.3f}</h1>\n",
    "</div>\n",
    "\"\"\" "
   ]
  },
  {
   "cell_type": "code",
   "execution_count": 13,
   "metadata": {},
   "outputs": [
    {
     "data": {
      "application/vnd.jupyter.widget-view+json": {
       "model_id": "8186344a5f8348cc829101d01fc7a327",
       "version_major": 2,
       "version_minor": 0
      },
      "text/plain": [
       "HBox(children=(Combobox(value='', description='Departure:', ensure_option=True, options=('Zürich, Bethanien', …"
      ]
     },
     "metadata": {},
     "output_type": "display_data"
    },
    {
     "data": {
      "application/vnd.jupyter.widget-view+json": {
       "model_id": "aeb1f530f521493597e465d82bb854a3",
       "version_major": 2,
       "version_minor": 0
      },
      "text/plain": [
       "Output()"
      ]
     },
     "metadata": {},
     "output_type": "display_data"
    }
   ],
   "source": [
    "# Add header in the page\n",
    "box_layout = widgets.Layout(display='flex',justify_content='center')\n",
    "\n",
    "# Add the selectors to run the algorithm \n",
    "ui = widgets.HBox([start_selector, stop_selector, arrival, conf,button], layout=box_layout)\n",
    "ui.add_class('center')\n",
    "\n",
    "out = widgets.Output()\n",
    "\n",
    "# Method to launch computation of the algorithm and display resulting paths \n",
    "def showOutput(btn):\n",
    "    # Start computation only if the two selectors with no default value are setted \n",
    "    if start_selector.value and stop_selector.value:\n",
    "        with out:\n",
    "            # Clear output after each computation \n",
    "            out.clear_output()\n",
    "            display(img_box)\n",
    "            \n",
    "            # Compute route with the values of the selectors\n",
    "            routes = compute_journey(start_selector.value, stop_selector.value, arrival.value, conf.value)\n",
    "            \n",
    "            # Squezz the dataframes with all the values to get only the changes in the path\n",
    "            squezzed_dfs = [(x, x.to_Pandas().iloc[0].dep_time,len(squeeze_df(x.to_Pandas()))) for x in routes]\n",
    "            \n",
    "            # Sort routes first based on departure time and otherwise by number of changes\n",
    "            routes = [x[0] for x in sorted(squezzed_dfs,key=lambda y : (-y[1],y[2]))]\n",
    "            out.clear_output()\n",
    "            \n",
    "            # Display each path returned by our planner\n",
    "            for i,route in enumerate(routes[:3]):\n",
    "                display(HTML(trip_header.format(color = colors[i], num = nums[i],proba=route.success_proba()[0])))\n",
    "                plot_journey(route)\n",
    "# Once the button is clicked we launch the computation   \n",
    "button.on_click(showOutput)\n",
    "       \n",
    "display(ui)\n",
    "display(out)"
   ]
  },
  {
   "cell_type": "code",
   "execution_count": null,
   "metadata": {},
   "outputs": [],
   "source": []
  }
 ],
 "metadata": {
  "kernelspec": {
   "display_name": "Python 3",
   "language": "python",
   "name": "python3"
  },
  "language_info": {
   "codemirror_mode": {
    "name": "ipython",
    "version": 3
   },
   "file_extension": ".py",
   "mimetype": "text/x-python",
   "name": "python",
   "nbconvert_exporter": "python",
   "pygments_lexer": "ipython3",
   "version": "3.7.6"
  }
 },
 "nbformat": 4,
 "nbformat_minor": 4
}
