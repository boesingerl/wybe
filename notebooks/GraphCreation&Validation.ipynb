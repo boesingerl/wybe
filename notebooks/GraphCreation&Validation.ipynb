{
 "cells": [
  {
   "cell_type": "code",
   "execution_count": 2,
   "metadata": {},
   "outputs": [],
   "source": [
    "import networkx as nx\n",
    "import pandas as pd\n",
    "import numpy as np"
   ]
  },
  {
   "cell_type": "code",
   "execution_count": 3,
   "metadata": {},
   "outputs": [],
   "source": [
    "import os\n",
    "username = os.environ['JUPYTERHUB_USER']"
   ]
  },
  {
   "cell_type": "code",
   "execution_count": 4,
   "metadata": {},
   "outputs": [],
   "source": [
    "from wybe import *\n",
    "%load_ext autoreload\n",
    "%autoreload 2"
   ]
  },
  {
   "cell_type": "markdown",
   "metadata": {},
   "source": [
    "# Assumptions\n",
    "\n",
    "We chose to make the following additional assumption to perform the routing :\n",
    "\n",
    "* Maximum waiting time of 45 minutes at a stop\n",
    "* Only connections between 6 AM and 10 PM are considered\n",
    "* add additional delay to make connection. Ex 1 min 30 are needed to exit train and station (or change of track)\n"
   ]
  },
  {
   "cell_type": "markdown",
   "metadata": {},
   "source": [
    "# Data loading and graph creation\n",
    "\n",
    "Using the set of connections (called edges here) computed in the `Spark` notebooks, we will build the transport network using stops as nodes. Since there are multiple schedules between two stops, we shall use a directed multi-edge graph.\n",
    "\n",
    "Each node maps to a stop in the 20km Zurich area. They are identified by their `stop id` (keys in the graph) and also contain the following properties :\n",
    "\n",
    "* `name`: Name of the stop \n",
    "* `lat` and `lon`  :  the GPS coordinates of the stop.\n",
    "\n",
    "Regarding the edges (connections between two stops : `A -> B`), we considererd two types :\n",
    "\n",
    "* Standard connections (refered as `edges` in the code below)       : connections that are definied in the timetable data.\n",
    "* Foot     connections (refered as `edges_foot` in the code below)  : walking transfer between any two stops that are at a distance of at most 500 m from each other.\n",
    "\n",
    "Both types will include tthe following additional properties in the graph :\n",
    "\n",
    "* `dep_time` : departure time  at stop `A` (timestamp)\n",
    "* `arr_time` : arrival   time  at stop `B` (timestamp) \n",
    "* `gamma`    : array of parameters of the gamma distribution modeling the delay of the connection \n",
    "* `ttype`    : transport type used  (e.g. Bus, S-Bahn, etc.) \n",
    "* `travel_time`: the travel time of the connection \n",
    "* `trip_id`  : identifier of the trip \n",
    "\n",
    "\n",
    "In the following cells, we will load the data stored in the cluster and create the graph\n",
    "\n",
    "> Note that since we want to be able to query for a fixed arrival time, the edges stored in the graph are reversed compared to the `real` connection.\n",
    "\n",
    "> Furthermore,  for `Foot connections`, the fields `gamma` is irrelevant (set to `None`) and that we cannot specify `dep_time` and `arr_time` at creations time (set to 0 initially) but they will be dynamically field in the traversal of the graph according to the current time. "
   ]
  },
  {
   "cell_type": "code",
   "execution_count": 33,
   "metadata": {},
   "outputs": [],
   "source": [
    "def build_graph():\n",
    "    \"\"\"\n",
    "    Read data from cluster and create transport graph\n",
    "    /!\\ Do no have to run this function since the graph is already stored in the cluster\n",
    "    \"\"\"\n",
    "    edges = Utils.load_hdfs_to_pandas(\"edges_with_gammas_global_2.parquet\").query(\"dep_time <= arr_time\")\n",
    "    edges = edges.rename(columns={\n",
    "            'gammas':'gamma',\n",
    "        'route_desc':'ttype',\n",
    "        'start_lat':'dep_lat',\n",
    "        'start_lon':'dep_lon',\n",
    "    })\n",
    "    edges             = Utils.format_edges(edges)\n",
    "    edges_foot        = Utils.create_edges_foot(edges)\n",
    "    G,stop_name_to_id = Utils.create_graph(edges,edges_foot)\n",
    "    Utils.save_graph_to_hdfs(G, stop_name_to_id,suffix='2')"
   ]
  },
  {
   "cell_type": "code",
   "execution_count": 5,
   "metadata": {},
   "outputs": [],
   "source": [
    "# read previously computed graph from the cluster\n",
    "G,stop_name_to_id = Utils.read_graph_from_hdfs(suffix=\"2\")"
   ]
  },
  {
   "cell_type": "markdown",
   "metadata": {},
   "source": [
    "# Graph validation\n",
    "We will first make sure that all stops in the 15km radius are connected as requested"
   ]
  },
  {
   "cell_type": "code",
   "execution_count": 6,
   "metadata": {},
   "outputs": [
    {
     "name": "stdout",
     "output_type": "stream",
     "text": [
      "Name: \n",
      "Type: MultiDiGraph\n",
      "Number of nodes: 2164\n",
      "Number of edges: 999381\n",
      "Average in degree: 461.8212\n",
      "Average out degree: 461.8212\n"
     ]
    }
   ],
   "source": [
    "print(nx.info(G))"
   ]
  },
  {
   "cell_type": "markdown",
   "metadata": {},
   "source": [
    "Since the graph is directed, we can use the strongly connected components algorithm to check for connectivity."
   ]
  },
  {
   "cell_type": "code",
   "execution_count": 40,
   "metadata": {},
   "outputs": [
    {
     "data": {
      "text/plain": [
       "False"
      ]
     },
     "execution_count": 40,
     "metadata": {},
     "output_type": "execute_result"
    }
   ],
   "source": [
    "nx.is_strongly_connected(G)"
   ]
  },
  {
   "cell_type": "markdown",
   "metadata": {},
   "source": [
    "However, we find that this is not the case at the global level. Note that it is not a problem since we are are only asked to find routes between two stops that fall within the 15 km radius. \n",
    "To perform this validation step, we will have to actually compute the strongly connected components and check that no stops ouside the max-size component are in the considered radius. "
   ]
  },
  {
   "cell_type": "code",
   "execution_count": 41,
   "metadata": {},
   "outputs": [
    {
     "data": {
      "text/plain": [
       "[2132, 9, 6, 4, 2, 2, 2, 1, 1, 1, 1, 1, 1, 1]"
      ]
     },
     "execution_count": 41,
     "metadata": {},
     "output_type": "execute_result"
    }
   ],
   "source": [
    "components        = nx.strongly_connected_components(G)       # compute the connected components\n",
    "sorted_components = sorted(components, key=len, reverse=True) # sort them by size\n",
    "[len(c) for c in sorted_components]                           # display the sizes to get a better idea of the connectivity "
   ]
  },
  {
   "cell_type": "code",
   "execution_count": 42,
   "metadata": {},
   "outputs": [],
   "source": [
    "# construct the considered set of stops to perform efficient 'contains' queries\n",
    "stops_data = Utils.load_hdfs_to_pandas(\"stops_15km.parquet\")\n",
    "stops_15km = set(stops_data.stop_id.values)"
   ]
  },
  {
   "cell_type": "code",
   "execution_count": 43,
   "metadata": {},
   "outputs": [
    {
     "name": "stdout",
     "output_type": "stream",
     "text": [
      "All the stops within the 15 km radius are connected\n"
     ]
    }
   ],
   "source": [
    "connected = True                       # intially we set the flag to True\n",
    "for small_c in sorted_components[1:]:  # iterate over all components except the largest one\n",
    "    for stop in small_c:               # iterate over all stops in these components\n",
    "        if stop in stops_15km:         # if one of them is the radius we have a connectivity issue\n",
    "            connected = False          # record this issue\n",
    "print(f\"All the stops within the 15 km radius are{'' if connected else ' not'} connected\")"
   ]
  },
  {
   "cell_type": "code",
   "execution_count": 44,
   "metadata": {},
   "outputs": [
    {
     "name": "stdout",
     "output_type": "stream",
     "text": [
      " The claim that all stop names are unique is : True\n"
     ]
    }
   ],
   "source": [
    "print(f\" The claim that all stop names are unique is : {len(stops_data.stop_name.drop_duplicates()) == len(stops_data.stop_name)}\")"
   ]
  },
  {
   "cell_type": "markdown",
   "metadata": {},
   "source": [
    "# Testing"
   ]
  },
  {
   "cell_type": "code",
   "execution_count": 24,
   "metadata": {},
   "outputs": [],
   "source": [
    "testRoutes = {\n",
    "    'simple':            ('Zürich, ETH/Universitätsspital','Zürich Enge', '18:00:00',         0.9),\n",
    "    'medium':            ('Opfikon','Stettbach', '12:00:00',                                  0.95),\n",
    "    'medium-2':          (\"Fällanden, Schützenhaus\", \"Wallisellen\", '12:00:00',               0.9),\n",
    "    'medium-high-proba': (\"Zürich Wiedikon, Bahnhof\",\"Zürich Flughafen, Bahnhof\", '10:40:00', 0.22),\n",
    "    'long'  :            ('Pfäffikon ZH, Wallikon','Bremgarten', '11:10:00',                  0.90)\n",
    "}   "
   ]
  },
  {
   "cell_type": "markdown",
   "metadata": {},
   "source": [
    "# Robust Routing validation"
   ]
  },
  {
   "cell_type": "code",
   "execution_count": 13,
   "metadata": {},
   "outputs": [],
   "source": [
    "# Method to squeeze the dataframes to have the edges of the same trip represented in a single entry\n",
    "def squeeze_df(df):\n",
    "        # Get Intermediate stop for each trip in route dataframe\n",
    "        intermediate_stops = df[['trip_id','dep_stop_name']].groupby('trip_id')\\\n",
    "                .agg({'dep_stop_name':lambda x : list(x)[1:]})\\\n",
    "                .reset_index().rename(columns={'dep_stop_name':'intermediate_stops'})\n",
    "        \n",
    "        # Select the values to be kept for each trip\n",
    "        df = df.groupby('trip_id')\\\n",
    "                .agg({'ttype':'first','dep_stop_id':'first','arr_stop_id':'last','dep_time':'first','arr_time':'last',\n",
    "                     'dep_stop_name':'first','arr_stop_name':'last','dep_lat':'first','dep_lon':'first','arr_lat':'last',\n",
    "                      'arr_lon':'last','travel_time':'sum'})\\\n",
    "                .reset_index()\n",
    "        # Merge stops with information about trip and return resulting dataframe\n",
    "        return df.merge(intermediate_stops,on='trip_id').sort_values(by='dep_time')"
   ]
  },
  {
   "cell_type": "code",
   "execution_count": 32,
   "metadata": {},
   "outputs": [
    {
     "name": "stdout",
     "output_type": "stream",
     "text": [
      "Iteration : 1 || Proba : 0.9041965303961121\n"
     ]
    }
   ],
   "source": [
    "routing = Routing(G, stop_name_to_id)\n",
    "route_list = routing.robust('Zürich Flughafen','Zürich HB', '12:00:00',threshold = 0.9, verbose=True, number_of_routes=1)"
   ]
  },
  {
   "cell_type": "code",
   "execution_count": 33,
   "metadata": {},
   "outputs": [
    {
     "data": {
      "text/html": [
       "<div>\n",
       "<style scoped>\n",
       "    .dataframe tbody tr th:only-of-type {\n",
       "        vertical-align: middle;\n",
       "    }\n",
       "\n",
       "    .dataframe tbody tr th {\n",
       "        vertical-align: top;\n",
       "    }\n",
       "\n",
       "    .dataframe thead th {\n",
       "        text-align: right;\n",
       "    }\n",
       "</style>\n",
       "<table border=\"1\" class=\"dataframe\">\n",
       "  <thead>\n",
       "    <tr style=\"text-align: right;\">\n",
       "      <th></th>\n",
       "      <th>trip_id</th>\n",
       "      <th>ttype</th>\n",
       "      <th>dep_stop_id</th>\n",
       "      <th>arr_stop_id</th>\n",
       "      <th>dep_time</th>\n",
       "      <th>arr_time</th>\n",
       "      <th>dep_stop_name</th>\n",
       "      <th>arr_stop_name</th>\n",
       "      <th>dep_lat</th>\n",
       "      <th>dep_lon</th>\n",
       "      <th>arr_lat</th>\n",
       "      <th>arr_lon</th>\n",
       "      <th>travel_time</th>\n",
       "      <th>intermediate_stops</th>\n",
       "    </tr>\n",
       "  </thead>\n",
       "  <tbody>\n",
       "    <tr>\n",
       "      <th>0</th>\n",
       "      <td>270.TA.6-8-j19-1.132.R</td>\n",
       "      <td>Intercity</td>\n",
       "      <td>8503016</td>\n",
       "      <td>8503000</td>\n",
       "      <td>42360.0</td>\n",
       "      <td>42900.0</td>\n",
       "      <td>Zürich Flughafen</td>\n",
       "      <td>Zürich HB</td>\n",
       "      <td>47.450381</td>\n",
       "      <td>8.562382</td>\n",
       "      <td>47.379271</td>\n",
       "      <td>8.540194</td>\n",
       "      <td>540.0</td>\n",
       "      <td>[]</td>\n",
       "    </tr>\n",
       "  </tbody>\n",
       "</table>\n",
       "</div>"
      ],
      "text/plain": [
       "                  trip_id      ttype dep_stop_id arr_stop_id  dep_time  \\\n",
       "0  270.TA.6-8-j19-1.132.R  Intercity     8503016     8503000   42360.0   \n",
       "\n",
       "   arr_time     dep_stop_name arr_stop_name    dep_lat   dep_lon    arr_lat  \\\n",
       "0   42900.0  Zürich Flughafen     Zürich HB  47.450381  8.562382  47.379271   \n",
       "\n",
       "    arr_lon  travel_time intermediate_stops  \n",
       "0  8.540194        540.0                 []  "
      ]
     },
     "metadata": {},
     "output_type": "display_data"
    },
    {
     "name": "stdout",
     "output_type": "stream",
     "text": [
      "\n",
      "        =========== Route info  =========\n",
      "        Departure time      : 11:46\n",
      "        Arrival   time      : 12:00\n",
      "        ---------------------------------\n",
      "        Success probability : 0.904\n",
      "        Travel    time      : 00:14\n",
      "        =========== Connections =========\n",
      "        \n",
      "            At stop : Zürich Flughafen and at 11:46\n",
      "            take the Intercity 270.TA.6-8-j19-1.132.R to Zürich HB which arrives at 11:55\n",
      "            Wait 5.0 min\n",
      "            \n"
     ]
    }
   ],
   "source": [
    "for r in route_list:\n",
    "    display(squeeze_df(route_list[0].to_Pandas()))\n",
    "    print(r)"
   ]
  },
  {
   "cell_type": "markdown",
   "metadata": {},
   "source": [
    "<img src=\"https://i.imgur.com/Rzqfpnx.png\">"
   ]
  },
  {
   "cell_type": "markdown",
   "metadata": {},
   "source": [
    "Fortunately, for such a simple route, our algorithm finds the same trip as the SBB website. Note that in our output, the algorithm tells us to wait for 5 min at the end since we told him we wanted to arrive at 12:00 and it arrived a bit early. This is not an issue."
   ]
  },
  {
   "cell_type": "code",
   "execution_count": 35,
   "metadata": {},
   "outputs": [
    {
     "name": "stdout",
     "output_type": "stream",
     "text": [
      "Iteration : 1 || Proba : 0.9584134305240971\n"
     ]
    },
    {
     "data": {
      "text/html": [
       "<div>\n",
       "<style scoped>\n",
       "    .dataframe tbody tr th:only-of-type {\n",
       "        vertical-align: middle;\n",
       "    }\n",
       "\n",
       "    .dataframe tbody tr th {\n",
       "        vertical-align: top;\n",
       "    }\n",
       "\n",
       "    .dataframe thead th {\n",
       "        text-align: right;\n",
       "    }\n",
       "</style>\n",
       "<table border=\"1\" class=\"dataframe\">\n",
       "  <thead>\n",
       "    <tr style=\"text-align: right;\">\n",
       "      <th></th>\n",
       "      <th>trip_id</th>\n",
       "      <th>ttype</th>\n",
       "      <th>dep_stop_id</th>\n",
       "      <th>arr_stop_id</th>\n",
       "      <th>dep_time</th>\n",
       "      <th>arr_time</th>\n",
       "      <th>dep_stop_name</th>\n",
       "      <th>arr_stop_name</th>\n",
       "      <th>dep_lat</th>\n",
       "      <th>dep_lon</th>\n",
       "      <th>arr_lat</th>\n",
       "      <th>arr_lon</th>\n",
       "      <th>travel_time</th>\n",
       "      <th>intermediate_stops</th>\n",
       "    </tr>\n",
       "  </thead>\n",
       "  <tbody>\n",
       "    <tr>\n",
       "      <th>0</th>\n",
       "      <td>0</td>\n",
       "      <td>Foot</td>\n",
       "      <td>8503340</td>\n",
       "      <td>8590629</td>\n",
       "      <td>40542.600191</td>\n",
       "      <td>40680.0</td>\n",
       "      <td>Opfikon</td>\n",
       "      <td>Glattbrugg, Post</td>\n",
       "      <td>47.430014</td>\n",
       "      <td>8.561771</td>\n",
       "      <td>47.430537</td>\n",
       "      <td>8.561115</td>\n",
       "      <td>137.399809</td>\n",
       "      <td>[]</td>\n",
       "    </tr>\n",
       "    <tr>\n",
       "      <th>3</th>\n",
       "      <td>491.TA.26-768-j19-1.1.H</td>\n",
       "      <td>Bus</td>\n",
       "      <td>8590629</td>\n",
       "      <td>8591063</td>\n",
       "      <td>40680.000000</td>\n",
       "      <td>41040.0</td>\n",
       "      <td>Glattbrugg, Post</td>\n",
       "      <td>Zürich Oerlikon, Bahnhof Ost</td>\n",
       "      <td>47.430537</td>\n",
       "      <td>8.561115</td>\n",
       "      <td>47.413336</td>\n",
       "      <td>8.545844</td>\n",
       "      <td>360.000000</td>\n",
       "      <td>[Glattbrugg, Frohbühlstrasse, Zürich, Ettenfel...</td>\n",
       "    </tr>\n",
       "    <tr>\n",
       "      <th>1</th>\n",
       "      <td>7</td>\n",
       "      <td>Foot</td>\n",
       "      <td>8591063</td>\n",
       "      <td>8503006</td>\n",
       "      <td>41268.280662</td>\n",
       "      <td>41640.0</td>\n",
       "      <td>Zürich Oerlikon, Bahnhof Ost</td>\n",
       "      <td>Zürich Oerlikon</td>\n",
       "      <td>47.413336</td>\n",
       "      <td>8.545844</td>\n",
       "      <td>47.411835</td>\n",
       "      <td>8.544110</td>\n",
       "      <td>371.719338</td>\n",
       "      <td>[]</td>\n",
       "    </tr>\n",
       "    <tr>\n",
       "      <th>2</th>\n",
       "      <td>102.TA.26-19-j19-1.15.R</td>\n",
       "      <td>S-Bahn</td>\n",
       "      <td>8503006</td>\n",
       "      <td>8503000</td>\n",
       "      <td>41640.000000</td>\n",
       "      <td>41940.0</td>\n",
       "      <td>Zürich Oerlikon</td>\n",
       "      <td>Zürich HB</td>\n",
       "      <td>47.411835</td>\n",
       "      <td>8.544110</td>\n",
       "      <td>47.379271</td>\n",
       "      <td>8.540194</td>\n",
       "      <td>300.000000</td>\n",
       "      <td>[]</td>\n",
       "    </tr>\n",
       "    <tr>\n",
       "      <th>4</th>\n",
       "      <td>97.TA.26-12-j19-1.17.H</td>\n",
       "      <td>S-Bahn</td>\n",
       "      <td>8503000</td>\n",
       "      <td>8503147</td>\n",
       "      <td>42360.000000</td>\n",
       "      <td>42900.0</td>\n",
       "      <td>Zürich HB</td>\n",
       "      <td>Stettbach</td>\n",
       "      <td>47.379271</td>\n",
       "      <td>8.540194</td>\n",
       "      <td>47.397334</td>\n",
       "      <td>8.596132</td>\n",
       "      <td>480.000000</td>\n",
       "      <td>[Zürich Stadelhofen]</td>\n",
       "    </tr>\n",
       "  </tbody>\n",
       "</table>\n",
       "</div>"
      ],
      "text/plain": [
       "                   trip_id   ttype dep_stop_id arr_stop_id      dep_time  \\\n",
       "0                        0    Foot     8503340     8590629  40542.600191   \n",
       "3  491.TA.26-768-j19-1.1.H     Bus     8590629     8591063  40680.000000   \n",
       "1                        7    Foot     8591063     8503006  41268.280662   \n",
       "2  102.TA.26-19-j19-1.15.R  S-Bahn     8503006     8503000  41640.000000   \n",
       "4   97.TA.26-12-j19-1.17.H  S-Bahn     8503000     8503147  42360.000000   \n",
       "\n",
       "   arr_time                 dep_stop_name                 arr_stop_name  \\\n",
       "0   40680.0                       Opfikon              Glattbrugg, Post   \n",
       "3   41040.0              Glattbrugg, Post  Zürich Oerlikon, Bahnhof Ost   \n",
       "1   41640.0  Zürich Oerlikon, Bahnhof Ost               Zürich Oerlikon   \n",
       "2   41940.0               Zürich Oerlikon                     Zürich HB   \n",
       "4   42900.0                     Zürich HB                     Stettbach   \n",
       "\n",
       "     dep_lat   dep_lon    arr_lat   arr_lon  travel_time  \\\n",
       "0  47.430014  8.561771  47.430537  8.561115   137.399809   \n",
       "3  47.430537  8.561115  47.413336  8.545844   360.000000   \n",
       "1  47.413336  8.545844  47.411835  8.544110   371.719338   \n",
       "2  47.411835  8.544110  47.379271  8.540194   300.000000   \n",
       "4  47.379271  8.540194  47.397334  8.596132   480.000000   \n",
       "\n",
       "                                  intermediate_stops  \n",
       "0                                                 []  \n",
       "3  [Glattbrugg, Frohbühlstrasse, Zürich, Ettenfel...  \n",
       "1                                                 []  \n",
       "2                                                 []  \n",
       "4                               [Zürich Stadelhofen]  "
      ]
     },
     "metadata": {},
     "output_type": "display_data"
    },
    {
     "name": "stdout",
     "output_type": "stream",
     "text": [
      "\n",
      "        =========== Route info  =========\n",
      "        Departure time      : 11:15\n",
      "        Arrival   time      : 12:00\n",
      "        ---------------------------------\n",
      "        Success probability : 0.958\n",
      "        Travel    time      : 00:44\n",
      "        =========== Connections =========\n",
      "        \n",
      "            At stop : Opfikon and at 11:15\n",
      "            walk 114 m to Glattbrugg, Post which arrives at 11:18\n",
      "            Wait 0.0 min\n",
      "            \n",
      "            At stop : Glattbrugg, Post and at 11:18\n",
      "            take the Bus 491.TA.26-768-j19-1.1.H to Glattbrugg, Frohbühlstrasse which arrives at 11:19\n",
      "            Wait 0.0 min\n",
      "            \n",
      "            At stop : Glattbrugg, Frohbühlstrasse and at 11:19\n",
      "            take the Bus 491.TA.26-768-j19-1.1.H to Zürich, Ettenfeld which arrives at 11:20\n",
      "            Wait 0.0 min\n",
      "            \n",
      "            At stop : Zürich, Ettenfeld and at 11:20\n",
      "            take the Bus 491.TA.26-768-j19-1.1.H to Zürich, Seebach which arrives at 11:22\n",
      "            Wait 0.0 min\n",
      "            \n",
      "            At stop : Zürich, Seebach and at 11:22\n",
      "            take the Bus 491.TA.26-768-j19-1.1.H to Zürich, Seebacherplatz which arrives at 11:22\n",
      "            Wait 0.0 min\n",
      "            \n",
      "            At stop : Zürich, Seebacherplatz and at 11:22\n",
      "            take the Bus 491.TA.26-768-j19-1.1.H to Zürich, Felsenrainstrasse which arrives at 11:23\n",
      "            Wait 0.0 min\n",
      "            \n",
      "            At stop : Zürich, Felsenrainstrasse and at 11:23\n",
      "            take the Bus 491.TA.26-768-j19-1.1.H to Zürich Oerlikon, Bahnhof Ost which arrives at 11:24\n",
      "            Wait 3.0 min\n",
      "            \n",
      "            At stop : Zürich Oerlikon, Bahnhof Ost and at 11:27\n",
      "            walk 310 m to Zürich Oerlikon which arrives at 11:34\n",
      "            Wait 0.0 min\n",
      "            \n",
      "            At stop : Zürich Oerlikon and at 11:34\n",
      "            take the S-Bahn 102.TA.26-19-j19-1.15.R to Zürich HB which arrives at 11:39\n",
      "            Wait 7.0 min\n",
      "            \n",
      "            At stop : Zürich HB and at 11:46\n",
      "            take the S-Bahn 97.TA.26-12-j19-1.17.H to Zürich Stadelhofen which arrives at 11:49\n",
      "            Wait 1.0 min\n",
      "            \n",
      "            At stop : Zürich Stadelhofen and at 11:50\n",
      "            take the S-Bahn 97.TA.26-12-j19-1.17.H to Stettbach which arrives at 11:55\n",
      "            Wait 5.0 min\n",
      "            \n"
     ]
    }
   ],
   "source": [
    "route_list = routing.robust('Opfikon','Stettbach', '12:00:00',threshold = 0.95, verbose=True, number_of_routes=1)\n",
    "for r in route_list:\n",
    "    display(squeeze_df(route_list[0].to_Pandas()))\n",
    "    print(r)"
   ]
  },
  {
   "cell_type": "markdown",
   "metadata": {},
   "source": [
    "<img src=\"https://i.imgur.com/DXnzA3t.png\">"
   ]
  },
  {
   "cell_type": "markdown",
   "metadata": {},
   "source": [
    "This route is a bit longer. In this case, the output is quite different : the SBB website tells us to leave 14 min later than our algorithm. Maybe the connection in Zürich Stadelhofen had a too high probability of not being feasible due to delays, so our algorithm chose a different route to satisfy the probability constraints."
   ]
  },
  {
   "cell_type": "code",
   "execution_count": 42,
   "metadata": {},
   "outputs": [
    {
     "name": "stdout",
     "output_type": "stream",
     "text": [
      "Iteration : 1 || Proba : 0.8916902335646066\n"
     ]
    },
    {
     "data": {
      "text/html": [
       "<div>\n",
       "<style scoped>\n",
       "    .dataframe tbody tr th:only-of-type {\n",
       "        vertical-align: middle;\n",
       "    }\n",
       "\n",
       "    .dataframe tbody tr th {\n",
       "        vertical-align: top;\n",
       "    }\n",
       "\n",
       "    .dataframe thead th {\n",
       "        text-align: right;\n",
       "    }\n",
       "</style>\n",
       "<table border=\"1\" class=\"dataframe\">\n",
       "  <thead>\n",
       "    <tr style=\"text-align: right;\">\n",
       "      <th></th>\n",
       "      <th>trip_id</th>\n",
       "      <th>ttype</th>\n",
       "      <th>dep_stop_id</th>\n",
       "      <th>arr_stop_id</th>\n",
       "      <th>dep_time</th>\n",
       "      <th>arr_time</th>\n",
       "      <th>dep_stop_name</th>\n",
       "      <th>arr_stop_name</th>\n",
       "      <th>dep_lat</th>\n",
       "      <th>dep_lon</th>\n",
       "      <th>arr_lat</th>\n",
       "      <th>arr_lon</th>\n",
       "      <th>travel_time</th>\n",
       "      <th>intermediate_stops</th>\n",
       "    </tr>\n",
       "  </thead>\n",
       "  <tbody>\n",
       "    <tr>\n",
       "      <th>3</th>\n",
       "      <td>116.TA.26-350-j19-1.4.R</td>\n",
       "      <td>Bus</td>\n",
       "      <td>8573710</td>\n",
       "      <td>8591341</td>\n",
       "      <td>40680.000000</td>\n",
       "      <td>40740.0</td>\n",
       "      <td>Zürich Wiedikon, Bahnhof</td>\n",
       "      <td>Zürich, Schmiede Wiedikon</td>\n",
       "      <td>47.371430</td>\n",
       "      <td>8.524186</td>\n",
       "      <td>47.370152</td>\n",
       "      <td>8.519263</td>\n",
       "      <td>60.000000</td>\n",
       "      <td>[]</td>\n",
       "    </tr>\n",
       "    <tr>\n",
       "      <th>6</th>\n",
       "      <td>346.TA.26-72-j19-1.1.R</td>\n",
       "      <td>Bus</td>\n",
       "      <td>8591341</td>\n",
       "      <td>8591145</td>\n",
       "      <td>40980.000000</td>\n",
       "      <td>41160.0</td>\n",
       "      <td>Zürich, Schmiede Wiedikon</td>\n",
       "      <td>Zürich, Friedhof Sihlfeld</td>\n",
       "      <td>47.370152</td>\n",
       "      <td>8.519263</td>\n",
       "      <td>47.375932</td>\n",
       "      <td>8.510891</td>\n",
       "      <td>180.000000</td>\n",
       "      <td>[Zürich, Zwinglihaus, Zürich, Bertastrasse]</td>\n",
       "    </tr>\n",
       "    <tr>\n",
       "      <th>0</th>\n",
       "      <td>4</td>\n",
       "      <td>Foot</td>\n",
       "      <td>8591145</td>\n",
       "      <td>8591038</td>\n",
       "      <td>41202.789109</td>\n",
       "      <td>41520.0</td>\n",
       "      <td>Zürich, Friedhof Sihlfeld</td>\n",
       "      <td>Zürich, Albisriederplatz</td>\n",
       "      <td>47.375932</td>\n",
       "      <td>8.510891</td>\n",
       "      <td>47.378213</td>\n",
       "      <td>8.510396</td>\n",
       "      <td>317.210891</td>\n",
       "      <td>[]</td>\n",
       "    </tr>\n",
       "    <tr>\n",
       "      <th>7</th>\n",
       "      <td>370.TA.26-33-B-j19-1.1.R</td>\n",
       "      <td>Bus</td>\n",
       "      <td>8591038</td>\n",
       "      <td>8591060</td>\n",
       "      <td>41520.000000</td>\n",
       "      <td>41700.0</td>\n",
       "      <td>Zürich, Albisriederplatz</td>\n",
       "      <td>Zürich Hardbrücke, Bahnhof</td>\n",
       "      <td>47.378213</td>\n",
       "      <td>8.510396</td>\n",
       "      <td>47.384934</td>\n",
       "      <td>8.517035</td>\n",
       "      <td>180.000000</td>\n",
       "      <td>[Zürich, Hardplatz]</td>\n",
       "    </tr>\n",
       "    <tr>\n",
       "      <th>1</th>\n",
       "      <td>7</td>\n",
       "      <td>Foot</td>\n",
       "      <td>8591060</td>\n",
       "      <td>8503020</td>\n",
       "      <td>41895.069405</td>\n",
       "      <td>41940.0</td>\n",
       "      <td>Zürich Hardbrücke, Bahnhof</td>\n",
       "      <td>Zürich Hardbrücke</td>\n",
       "      <td>47.384934</td>\n",
       "      <td>8.517035</td>\n",
       "      <td>47.385256</td>\n",
       "      <td>8.517107</td>\n",
       "      <td>44.930595</td>\n",
       "      <td>[]</td>\n",
       "    </tr>\n",
       "    <tr>\n",
       "      <th>4</th>\n",
       "      <td>21.TA.26-9-A-j19-1.13.H</td>\n",
       "      <td>S-Bahn</td>\n",
       "      <td>8503020</td>\n",
       "      <td>8503006</td>\n",
       "      <td>41940.000000</td>\n",
       "      <td>42240.0</td>\n",
       "      <td>Zürich Hardbrücke</td>\n",
       "      <td>Zürich Oerlikon</td>\n",
       "      <td>47.385256</td>\n",
       "      <td>8.517107</td>\n",
       "      <td>47.411835</td>\n",
       "      <td>8.544110</td>\n",
       "      <td>300.000000</td>\n",
       "      <td>[]</td>\n",
       "    </tr>\n",
       "    <tr>\n",
       "      <th>5</th>\n",
       "      <td>327.TA.26-2-j19-1.141.R</td>\n",
       "      <td>S-Bahn</td>\n",
       "      <td>8503006</td>\n",
       "      <td>8503016</td>\n",
       "      <td>42540.000000</td>\n",
       "      <td>42840.0</td>\n",
       "      <td>Zürich Oerlikon</td>\n",
       "      <td>Zürich Flughafen</td>\n",
       "      <td>47.411835</td>\n",
       "      <td>8.544110</td>\n",
       "      <td>47.450381</td>\n",
       "      <td>8.562382</td>\n",
       "      <td>300.000000</td>\n",
       "      <td>[]</td>\n",
       "    </tr>\n",
       "    <tr>\n",
       "      <th>2</th>\n",
       "      <td>10</td>\n",
       "      <td>Foot</td>\n",
       "      <td>8503016</td>\n",
       "      <td>8573205</td>\n",
       "      <td>42948.187375</td>\n",
       "      <td>43200.0</td>\n",
       "      <td>Zürich Flughafen</td>\n",
       "      <td>Zürich Flughafen, Bahnhof</td>\n",
       "      <td>47.450381</td>\n",
       "      <td>8.562382</td>\n",
       "      <td>47.450769</td>\n",
       "      <td>8.563747</td>\n",
       "      <td>251.812625</td>\n",
       "      <td>[]</td>\n",
       "    </tr>\n",
       "  </tbody>\n",
       "</table>\n",
       "</div>"
      ],
      "text/plain": [
       "                    trip_id   ttype dep_stop_id arr_stop_id      dep_time  \\\n",
       "3   116.TA.26-350-j19-1.4.R     Bus     8573710     8591341  40680.000000   \n",
       "6    346.TA.26-72-j19-1.1.R     Bus     8591341     8591145  40980.000000   \n",
       "0                         4    Foot     8591145     8591038  41202.789109   \n",
       "7  370.TA.26-33-B-j19-1.1.R     Bus     8591038     8591060  41520.000000   \n",
       "1                         7    Foot     8591060     8503020  41895.069405   \n",
       "4   21.TA.26-9-A-j19-1.13.H  S-Bahn     8503020     8503006  41940.000000   \n",
       "5   327.TA.26-2-j19-1.141.R  S-Bahn     8503006     8503016  42540.000000   \n",
       "2                        10    Foot     8503016     8573205  42948.187375   \n",
       "\n",
       "   arr_time               dep_stop_name               arr_stop_name  \\\n",
       "3   40740.0    Zürich Wiedikon, Bahnhof   Zürich, Schmiede Wiedikon   \n",
       "6   41160.0   Zürich, Schmiede Wiedikon   Zürich, Friedhof Sihlfeld   \n",
       "0   41520.0   Zürich, Friedhof Sihlfeld    Zürich, Albisriederplatz   \n",
       "7   41700.0    Zürich, Albisriederplatz  Zürich Hardbrücke, Bahnhof   \n",
       "1   41940.0  Zürich Hardbrücke, Bahnhof           Zürich Hardbrücke   \n",
       "4   42240.0           Zürich Hardbrücke             Zürich Oerlikon   \n",
       "5   42840.0             Zürich Oerlikon            Zürich Flughafen   \n",
       "2   43200.0            Zürich Flughafen   Zürich Flughafen, Bahnhof   \n",
       "\n",
       "     dep_lat   dep_lon    arr_lat   arr_lon  travel_time  \\\n",
       "3  47.371430  8.524186  47.370152  8.519263    60.000000   \n",
       "6  47.370152  8.519263  47.375932  8.510891   180.000000   \n",
       "0  47.375932  8.510891  47.378213  8.510396   317.210891   \n",
       "7  47.378213  8.510396  47.384934  8.517035   180.000000   \n",
       "1  47.384934  8.517035  47.385256  8.517107    44.930595   \n",
       "4  47.385256  8.517107  47.411835  8.544110   300.000000   \n",
       "5  47.411835  8.544110  47.450381  8.562382   300.000000   \n",
       "2  47.450381  8.562382  47.450769  8.563747   251.812625   \n",
       "\n",
       "                            intermediate_stops  \n",
       "3                                           []  \n",
       "6  [Zürich, Zwinglihaus, Zürich, Bertastrasse]  \n",
       "0                                           []  \n",
       "7                          [Zürich, Hardplatz]  \n",
       "1                                           []  \n",
       "4                                           []  \n",
       "5                                           []  \n",
       "2                                           []  "
      ]
     },
     "metadata": {},
     "output_type": "display_data"
    },
    {
     "name": "stdout",
     "output_type": "stream",
     "text": [
      "\n",
      "        =========== Route info  =========\n",
      "        Departure time      : 11:18\n",
      "        Arrival   time      : 12:00\n",
      "        ---------------------------------\n",
      "        Success probability : 0.892\n",
      "        Travel    time      : 00:42\n",
      "        =========== Connections =========\n",
      "        \n",
      "            At stop : Zürich Wiedikon, Bahnhof and at 11:18\n",
      "            take the Bus 116.TA.26-350-j19-1.4.R to Zürich, Schmiede Wiedikon which arrives at 11:19\n",
      "            Wait 4.0 min\n",
      "            \n",
      "            At stop : Zürich, Schmiede Wiedikon and at 11:23\n",
      "            take the Bus 346.TA.26-72-j19-1.1.R to Zürich, Zwinglihaus which arrives at 11:24\n",
      "            Wait 0.0 min\n",
      "            \n",
      "            At stop : Zürich, Zwinglihaus and at 11:24\n",
      "            take the Bus 346.TA.26-72-j19-1.1.R to Zürich, Bertastrasse which arrives at 11:25\n",
      "            Wait 0.0 min\n",
      "            \n",
      "            At stop : Zürich, Bertastrasse and at 11:25\n",
      "            take the Bus 346.TA.26-72-j19-1.1.R to Zürich, Friedhof Sihlfeld which arrives at 11:26\n",
      "            Wait 0.0 min\n",
      "            \n",
      "            At stop : Zürich, Friedhof Sihlfeld and at 11:26\n",
      "            walk 264 m to Zürich, Albisriederplatz which arrives at 11:32\n",
      "            Wait 0.0 min\n",
      "            \n",
      "            At stop : Zürich, Albisriederplatz and at 11:32\n",
      "            take the Bus 370.TA.26-33-B-j19-1.1.R to Zürich, Hardplatz which arrives at 11:34\n",
      "            Wait 0.0 min\n",
      "            \n",
      "            At stop : Zürich, Hardplatz and at 11:34\n",
      "            take the Bus 370.TA.26-33-B-j19-1.1.R to Zürich Hardbrücke, Bahnhof which arrives at 11:35\n",
      "            Wait 3.0 min\n",
      "            \n",
      "            At stop : Zürich Hardbrücke, Bahnhof and at 11:38\n",
      "            walk 37 m to Zürich Hardbrücke which arrives at 11:39\n",
      "            Wait 0.0 min\n",
      "            \n",
      "            At stop : Zürich Hardbrücke and at 11:39\n",
      "            take the S-Bahn 21.TA.26-9-A-j19-1.13.H to Zürich Oerlikon which arrives at 11:44\n",
      "            Wait 5.0 min\n",
      "            \n",
      "            At stop : Zürich Oerlikon and at 11:49\n",
      "            take the S-Bahn 327.TA.26-2-j19-1.141.R to Zürich Flughafen which arrives at 11:54\n",
      "            Wait 1.0 min\n",
      "            \n",
      "            At stop : Zürich Flughafen and at 11:55\n",
      "            walk 210 m to Zürich Flughafen, Bahnhof which arrives at 12:00\n",
      "            Wait 0.0 min\n",
      "            \n"
     ]
    }
   ],
   "source": [
    "route_list = routing.robust('Zürich Wiedikon, Bahnhof','Zürich Flughafen, Bahnhof', '12:00:00',threshold = 0.8, verbose=True, number_of_routes=1)\n",
    "for r in route_list:\n",
    "    display(squeeze_df(route_list[0].to_Pandas()))\n",
    "    print(r)"
   ]
  },
  {
   "cell_type": "markdown",
   "metadata": {},
   "source": [
    "<img src=\"https://i.imgur.com/oONXUdZ.png\">"
   ]
  },
  {
   "cell_type": "markdown",
   "metadata": {},
   "source": [
    "In this case, our route seems to be way too complicated compared to the results of the SBB website. It may be the case that the edge used by SBB is not present in our dataset (we checked and it happened for some edges before). In any case, our algorithm still finds a reliable way to get to its destination in a reasonable time."
   ]
  }
 ],
 "metadata": {
  "kernelspec": {
   "display_name": "Python 3",
   "language": "python",
   "name": "python3"
  },
  "language_info": {
   "codemirror_mode": {
    "name": "ipython",
    "version": 3
   },
   "file_extension": ".py",
   "mimetype": "text/x-python",
   "name": "python",
   "nbconvert_exporter": "python",
   "pygments_lexer": "ipython3",
   "version": "3.7.6"
  }
 },
 "nbformat": 4,
 "nbformat_minor": 4
}
